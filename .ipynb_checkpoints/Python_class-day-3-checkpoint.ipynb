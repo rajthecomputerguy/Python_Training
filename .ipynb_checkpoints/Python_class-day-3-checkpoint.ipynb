{
 "cells": [
  {
   "cell_type": "code",
   "execution_count": 2,
   "metadata": {},
   "outputs": [
    {
     "data": {
      "text/plain": [
       "4"
      ]
     },
     "execution_count": 2,
     "metadata": {},
     "output_type": "execute_result"
    }
   ],
   "source": [
    "# List\n",
    "# Elements\n",
    "state = ['pondy', 'tamilnadu', 'pune', 'goa']\n",
    "len(state)"
   ]
  },
  {
   "cell_type": "code",
   "execution_count": 9,
   "metadata": {},
   "outputs": [
    {
     "name": "stdout",
     "output_type": "stream",
     "text": [
      "goa\n",
      "goa\n"
     ]
    }
   ],
   "source": [
    "# Access elements using index\n",
    "# Neagtive Index\n",
    "state = ['pondy', 'tamilnadu', 'pune', 'goa']\n",
    "print(state[-1])\n",
    "print(state[3])\n"
   ]
  },
  {
   "cell_type": "code",
   "execution_count": 13,
   "metadata": {},
   "outputs": [
    {
     "name": "stdout",
     "output_type": "stream",
     "text": [
      "['goa', 'Kolkatta']\n"
     ]
    }
   ],
   "source": [
    "# slicing\n",
    "state = ['pondy', 'tamilnadu', 'pune', 'goa', 'Kolkatta']\n",
    "print(state[3:])"
   ]
  },
  {
   "cell_type": "code",
   "execution_count": 15,
   "metadata": {},
   "outputs": [
    {
     "name": "stdout",
     "output_type": "stream",
     "text": [
      "['pondy', 'tamilnadu', 'pune', 'goa', 'Kolkatta', 'Delhi']\n"
     ]
    }
   ],
   "source": [
    "# List Methods\n",
    "# Append\n",
    "state = ['pondy', 'tamilnadu', 'pune', 'goa', 'Kolkatta']\n",
    "state.append('Delhi')\n",
    "print(state)"
   ]
  },
  {
   "cell_type": "code",
   "execution_count": 18,
   "metadata": {},
   "outputs": [
    {
     "name": "stdout",
     "output_type": "stream",
     "text": [
      "['pondy', 'tamilnadu', 'pune', 'UP', 'goa', 'Kolkatta']\n"
     ]
    }
   ],
   "source": [
    "# List Methods\n",
    "# insert - 1\n",
    "state = ['pondy', 'tamilnadu', 'pune', 'goa', 'Kolkatta']\n",
    "state.insert(3, 'UP')\n",
    "print(state)"
   ]
  },
  {
   "cell_type": "code",
   "execution_count": 21,
   "metadata": {},
   "outputs": [
    {
     "name": "stdout",
     "output_type": "stream",
     "text": [
      "[['chennai', 'madurai'], 'pondy', 'tamilnadu', 'pune', 'goa', 'Kolkatta']\n"
     ]
    }
   ],
   "source": [
    "# insert - 2\n",
    "state = ['pondy', 'tamilnadu', 'pune', 'goa', 'Kolkatta']\n",
    "city = ['chennai', 'madurai']\n",
    "state.insert(0, city)\n",
    "print(state)"
   ]
  },
  {
   "cell_type": "code",
   "execution_count": 20,
   "metadata": {},
   "outputs": [
    {
     "name": "stdout",
     "output_type": "stream",
     "text": [
      "['pondy', 'tamilnadu', 'pune', 'goa', 'Kolkatta', 'chennai', 'madurai']\n"
     ]
    }
   ],
   "source": [
    "# extend \n",
    "state = ['pondy', 'tamilnadu', 'pune', 'goa', 'Kolkatta']\n",
    "city = ['chennai', 'madurai']\n",
    "state.extend(city)\n",
    "print(state)"
   ]
  },
  {
   "cell_type": "code",
   "execution_count": 29,
   "metadata": {},
   "outputs": [
    {
     "name": "stdout",
     "output_type": "stream",
     "text": [
      "Kolkatta is removed from ['pondy', 'tamilnadu', 'pune', 'goa']\n"
     ]
    }
   ],
   "source": [
    "# pop\n",
    "state = ['pondy', 'tamilnadu', 'pune', 'goa', 'Kolkatta']\n",
    "city = ['chennai', 'madurai']\n",
    "pooped_items = state.pop()\n",
    "print(f'{pooped_items} is removed from {state}')\n",
    "#print(state)"
   ]
  },
  {
   "cell_type": "code",
   "execution_count": 35,
   "metadata": {},
   "outputs": [
    {
     "name": "stdout",
     "output_type": "stream",
     "text": [
      "Pondy is removed from ['tamilnadu', 'pune', 'goa', 'Kolkatta']\n"
     ]
    }
   ],
   "source": [
    "# remove\n",
    "state = ['pondy', 'tamilnadu', 'pune', 'goa', 'Kolkatta']\n",
    "city = ['chennai', 'madurai']\n",
    "state.remove('pondy')\n",
    "print(f'Pondy is removed from {state}')"
   ]
  },
  {
   "cell_type": "code",
   "execution_count": 36,
   "metadata": {},
   "outputs": [
    {
     "name": "stdout",
     "output_type": "stream",
     "text": [
      "['Kolkatta', 'goa', 'pune', 'tamilnadu', 'pondy']\n"
     ]
    }
   ],
   "source": [
    "# reverse\n",
    "state = ['pondy', 'tamilnadu', 'pune', 'goa', 'Kolkatta']\n",
    "state.reverse()\n",
    "print(state)"
   ]
  },
  {
   "cell_type": "code",
   "execution_count": 46,
   "metadata": {},
   "outputs": [
    {
     "data": {
      "text/plain": [
       "['Kolkatta', 'goa', 'pondy', 'pune', 'tamilnadu']"
      ]
     },
     "execution_count": 46,
     "metadata": {},
     "output_type": "execute_result"
    }
   ],
   "source": [
    "# sort\n",
    "# Inbuilt function - sorted\n",
    "state = ['pondy', 'tamilnadu', 'pune', 'goa', 'Kolkatta']\n",
    "state.sort(reverse=True)\n",
    "sorted(state)"
   ]
  },
  {
   "cell_type": "code",
   "execution_count": 52,
   "metadata": {},
   "outputs": [
    {
     "name": "stdout",
     "output_type": "stream",
     "text": [
      "1\n",
      "5\n",
      "11\n"
     ]
    }
   ],
   "source": [
    "# Min and Max and sum -- inbuilt function\n",
    "nums = [1, 5, 2, 3]\n",
    "print(min(nums))\n",
    "print(max(nums))\n",
    "print(sum(nums))\n"
   ]
  },
  {
   "cell_type": "code",
   "execution_count": 54,
   "metadata": {},
   "outputs": [
    {
     "name": "stdout",
     "output_type": "stream",
     "text": [
      "3\n"
     ]
    }
   ],
   "source": [
    "# Accessing index value using elements\n",
    "state = ['pondy', 'tamilnadu', 'pune', 'goa', 'Kolkatta']\n",
    "print(state.index('goa'))"
   ]
  },
  {
   "cell_type": "code",
   "execution_count": 56,
   "metadata": {},
   "outputs": [
    {
     "name": "stdout",
     "output_type": "stream",
     "text": [
      "True\n",
      "False\n"
     ]
    }
   ],
   "source": [
    "# returning bool\n",
    "state = ['pondy', 'tamilnadu', 'pune', 'goa', 'Kolkatta']\n",
    "print('goa' in state)\n",
    "print('india' in state)\n"
   ]
  },
  {
   "cell_type": "code",
   "execution_count": 70,
   "metadata": {},
   "outputs": [
    {
     "name": "stdout",
     "output_type": "stream",
     "text": [
      "pondy\n"
     ]
    }
   ],
   "source": [
    "# Example for loop\n",
    "state = ['pondy', 'tamilnadu', 'pune', 'goa', 'Kolkatta']\n",
    "for ele in state:\n",
    "    if ele == 'pondy':\n",
    "       print(ele)"
   ]
  },
  {
   "cell_type": "code",
   "execution_count": null,
   "metadata": {},
   "outputs": [],
   "source": []
  },
  {
   "cell_type": "code",
   "execution_count": null,
   "metadata": {},
   "outputs": [],
   "source": []
  },
  {
   "cell_type": "code",
   "execution_count": null,
   "metadata": {},
   "outputs": [],
   "source": []
  }
 ],
 "metadata": {
  "kernelspec": {
   "display_name": "Python 3",
   "language": "python",
   "name": "python3"
  },
  "language_info": {
   "codemirror_mode": {
    "name": "ipython",
    "version": 3
   },
   "file_extension": ".py",
   "mimetype": "text/x-python",
   "name": "python",
   "nbconvert_exporter": "python",
   "pygments_lexer": "ipython3",
   "version": "3.6.9"
  }
 },
 "nbformat": 4,
 "nbformat_minor": 4
}
